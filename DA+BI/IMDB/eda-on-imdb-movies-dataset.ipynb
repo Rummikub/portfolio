{
 "cells": [
  {
   "cell_type": "markdown",
   "metadata": {},
   "source": [
    "## Data\n",
    "- PosterLink: Link of the poster that imdb using\n",
    "- SeriesTitle: Name of the movie\n",
    "- ReleasedYear: Year at which that movie released\n",
    "- Certificate: Certificate earned by that movie\n",
    "- Runtime: Total runtime of the movie\n",
    "- Genre: Genre of the movie\n",
    "- IMDB Rating: Rating of the movie at IMDB site\n",
    "- Overview: mini story/ summary\n",
    "- Meta_score: Score earned by the movie\n",
    "- Director: Name of the Director\n",
    "- Star1,Star2,Star3,Star4: Name of the Stars\n",
    "- No of votes: Total number of votes\n",
    "- Gross: Money earned by that movie\n",
    "\n",
    "### IMDB Dataset of top 1000 movies and tv shows."
   ]
  },
  {
   "cell_type": "markdown",
   "metadata": {},
   "source": [
    "## Importing all required libraries"
   ]
  },
  {
   "cell_type": "code",
   "execution_count": 3,
   "metadata": {
    "trusted": true
   },
   "outputs": [
    {
     "ename": "ModuleNotFoundError",
     "evalue": "No module named 'pandas'",
     "output_type": "error",
     "traceback": [
      "\u001b[1;31m---------------------------------------------------------------------------\u001b[0m",
      "\u001b[1;31mModuleNotFoundError\u001b[0m                       Traceback (most recent call last)",
      "Cell \u001b[1;32mIn[3], line 1\u001b[0m\n\u001b[1;32m----> 1\u001b[0m \u001b[38;5;28;01mimport\u001b[39;00m\u001b[38;5;250m \u001b[39m\u001b[38;5;21;01mpandas\u001b[39;00m\u001b[38;5;250m \u001b[39m\u001b[38;5;28;01mas\u001b[39;00m\u001b[38;5;250m \u001b[39m\u001b[38;5;21;01mpd\u001b[39;00m\n\u001b[0;32m      2\u001b[0m \u001b[38;5;28;01mimport\u001b[39;00m\u001b[38;5;250m \u001b[39m\u001b[38;5;21;01mnumpy\u001b[39;00m\u001b[38;5;250m \u001b[39m\u001b[38;5;28;01mas\u001b[39;00m\u001b[38;5;250m \u001b[39m\u001b[38;5;21;01mnp\u001b[39;00m\n\u001b[0;32m      3\u001b[0m \u001b[38;5;28;01mimport\u001b[39;00m\u001b[38;5;250m \u001b[39m\u001b[38;5;21;01mseaborn\u001b[39;00m\u001b[38;5;250m \u001b[39m\u001b[38;5;28;01mas\u001b[39;00m\u001b[38;5;250m \u001b[39m\u001b[38;5;21;01msns\u001b[39;00m\n",
      "\u001b[1;31mModuleNotFoundError\u001b[0m: No module named 'pandas'"
     ]
    }
   ],
   "source": [
    "import pandas as pd\n",
    "import numpy as np\n",
    "import seaborn as sns\n",
    "import matplotlib.pyplot as plt"
   ]
  },
  {
   "cell_type": "code",
   "execution_count": null,
   "metadata": {
    "trusted": true
   },
   "outputs": [],
   "source": [
    "path = '../input/imdb-dataset-of-top-1000-movies-and-tv-shows/imdb_top_1000.csv'\n",
    "data = pd.read_csv(path)"
   ]
  },
  {
   "cell_type": "markdown",
   "metadata": {},
   "source": [
    "## Shape of the data"
   ]
  },
  {
   "cell_type": "code",
   "execution_count": null,
   "metadata": {
    "trusted": true
   },
   "outputs": [],
   "source": [
    "print(\"The shape of the dataset is: {} rows and {} columns\".format(data.shape[0], data.shape[1]))"
   ]
  },
  {
   "cell_type": "markdown",
   "metadata": {},
   "source": [
    "## Quick view of data"
   ]
  },
  {
   "cell_type": "code",
   "execution_count": null,
   "metadata": {
    "trusted": true
   },
   "outputs": [],
   "source": [
    "data.head(4)"
   ]
  },
  {
   "cell_type": "markdown",
   "metadata": {},
   "source": [
    "## Number of null values"
   ]
  },
  {
   "cell_type": "code",
   "execution_count": null,
   "metadata": {
    "trusted": true
   },
   "outputs": [],
   "source": [
    "data.isnull().sum()"
   ]
  },
  {
   "cell_type": "code",
   "execution_count": null,
   "metadata": {
    "trusted": true
   },
   "outputs": [],
   "source": [
    "data = data.rename(columns={\"Series_Title\": \"Movies_Title\"})"
   ]
  },
  {
   "cell_type": "code",
   "execution_count": null,
   "metadata": {
    "trusted": true
   },
   "outputs": [],
   "source": [
    "data.head(2)"
   ]
  },
  {
   "cell_type": "code",
   "execution_count": null,
   "metadata": {
    "trusted": true
   },
   "outputs": [],
   "source": [
    "print(data['Gross'].head(1))\n",
    "data['Gross'] = data['Gross'].str.replace(',', '')\n",
    "print(data['Gross'].head(1))\n",
    "\n",
    "data['Gross'] = data['Gross'].astype('float64')\n",
    "data['Gross'] = data['Gross'].replace(np.nan, 0)"
   ]
  },
  {
   "cell_type": "code",
   "execution_count": null,
   "metadata": {
    "trusted": true
   },
   "outputs": [],
   "source": [
    "data['Gross'] = data['Gross'].astype(int)"
   ]
  },
  {
   "cell_type": "code",
   "execution_count": null,
   "metadata": {
    "trusted": true
   },
   "outputs": [],
   "source": [
    "data['Gross'].dtype"
   ]
  },
  {
   "cell_type": "markdown",
   "metadata": {},
   "source": [
    "## Finding correlation"
   ]
  },
  {
   "cell_type": "code",
   "execution_count": null,
   "metadata": {
    "trusted": true
   },
   "outputs": [],
   "source": [
    "data.corr()"
   ]
  },
  {
   "cell_type": "code",
   "execution_count": null,
   "metadata": {
    "trusted": true
   },
   "outputs": [],
   "source": [
    "numerical_attributes = ['IMDB_Rating', 'Meta_score', 'No_of_Votes', 'Gross']\n",
    "data[numerical_attributes].hist(figsize = (15, 6), color = 'blue', edgecolor = 'red', layout = (2, 2));"
   ]
  },
  {
   "cell_type": "code",
   "execution_count": null,
   "metadata": {
    "trusted": true
   },
   "outputs": [],
   "source": [
    "data.describe(include = ['O'])"
   ]
  },
  {
   "cell_type": "code",
   "execution_count": null,
   "metadata": {
    "trusted": true
   },
   "outputs": [],
   "source": [
    "top_voted = data.sort_values(['No_of_Votes'], ascending = False)"
   ]
  },
  {
   "cell_type": "markdown",
   "metadata": {},
   "source": [
    "### Top voted movies"
   ]
  },
  {
   "cell_type": "code",
   "execution_count": null,
   "metadata": {
    "trusted": true
   },
   "outputs": [],
   "source": [
    "fig,axs=plt.subplots(figsize=(15,5))\n",
    "g=sns.barplot(x=top_voted['Movies_Title'][:7],y=top_voted['No_of_Votes'][:7], palette = 'hls')\n",
    "g.set_title(\"Top Voted Movies\", weight = \"bold\")\n",
    "plt.show()"
   ]
  },
  {
   "cell_type": "markdown",
   "metadata": {},
   "source": [
    "### Top voted movies ratings"
   ]
  },
  {
   "cell_type": "code",
   "execution_count": null,
   "metadata": {
    "trusted": true
   },
   "outputs": [],
   "source": [
    "fig,axs=plt.subplots(figsize=(15,5))\n",
    "g=sns.barplot(x=top_voted['Movies_Title'][:7],y=top_voted['IMDB_Rating'][:7], palette = 'husl')\n",
    "g.set_title(\"IMDB Rating of top voted movies\", weight = \"bold\")\n",
    "plt.show()"
   ]
  },
  {
   "cell_type": "markdown",
   "metadata": {},
   "source": [
    "### Top voted movies metascores"
   ]
  },
  {
   "cell_type": "code",
   "execution_count": null,
   "metadata": {
    "trusted": true
   },
   "outputs": [],
   "source": [
    "fig,axs=plt.subplots(figsize=(15,5))\n",
    "g=sns.barplot(x=top_voted['Movies_Title'][:7],y=top_voted['Meta_score'][:7], palette = 'husl')\n",
    "g.set_title(\"Metascore of top rated movies\", weight = \"bold\")\n",
    "plt.show()"
   ]
  },
  {
   "cell_type": "code",
   "execution_count": null,
   "metadata": {
    "trusted": true
   },
   "outputs": [],
   "source": [
    "data['Gross'].head(5)"
   ]
  },
  {
   "cell_type": "code",
   "execution_count": null,
   "metadata": {
    "trusted": true
   },
   "outputs": [],
   "source": [
    "data.loc[data['Gross']==0]"
   ]
  },
  {
   "cell_type": "markdown",
   "metadata": {},
   "source": [
    "### Gross of top rated movies"
   ]
  },
  {
   "cell_type": "code",
   "execution_count": null,
   "metadata": {
    "trusted": true
   },
   "outputs": [],
   "source": [
    "fig,axs=plt.subplots(figsize=(15,5))\n",
    "g=sns.barplot(x=top_voted['Movies_Title'][:7],y=top_voted['Gross'][:7], palette = 'husl')\n",
    "g.set_title(\"Gross by top rated movies\", weight = \"bold\")\n",
    "plt.show()"
   ]
  },
  {
   "cell_type": "markdown",
   "metadata": {},
   "source": [
    "### Top movies by Gross"
   ]
  },
  {
   "cell_type": "code",
   "execution_count": null,
   "metadata": {
    "trusted": true
   },
   "outputs": [],
   "source": [
    "highest_earning = data.sort_values(['Gross'], ascending = False)\n",
    "fig,axs=plt.subplots(figsize=(23,5))\n",
    "g=sns.barplot(x=highest_earning['Movies_Title'][:7],y=highest_earning['Gross'][:7], palette = 'husl')\n",
    "g.set_title(\"Movies with highest Gross\", weight = \"bold\")\n",
    "plt.show()"
   ]
  },
  {
   "cell_type": "markdown",
   "metadata": {},
   "source": [
    "### Maximum movies released in-"
   ]
  },
  {
   "cell_type": "code",
   "execution_count": null,
   "metadata": {
    "trusted": true
   },
   "outputs": [],
   "source": [
    "fig,axs=plt.subplots(figsize=(20,5))\n",
    "g=sns.barplot(x=data['Released_Year'].value_counts()[:10].index,y=data['Released_Year'].value_counts()[:10])\n",
    "g.set_title(\"Maximum Series released in-\", weight = \"bold\")\n",
    "g.set_xlabel(\"Years\")\n",
    "plt.show()"
   ]
  },
  {
   "cell_type": "markdown",
   "metadata": {},
   "source": [
    "### Mostly occurred Directors(lineplot)"
   ]
  },
  {
   "cell_type": "code",
   "execution_count": null,
   "metadata": {
    "trusted": true
   },
   "outputs": [],
   "source": [
    "fig,axs=plt.subplots(figsize=(20,5))\n",
    "g=sns.lineplot(x=data['Director'].value_counts()[:10].index,y=data['Released_Year'].value_counts()[:10])\n",
    "g.set_title(\"Mostly Occurred Directors\", weight = \"bold\")\n",
    "g.set_xlabel(\"Directors\", weight = \"bold\")\n",
    "plt.show()"
   ]
  },
  {
   "cell_type": "markdown",
   "metadata": {},
   "source": [
    "### Mostly occurred directors(barplot)"
   ]
  },
  {
   "cell_type": "code",
   "execution_count": null,
   "metadata": {
    "trusted": true
   },
   "outputs": [],
   "source": [
    "fig,axs=plt.subplots(figsize=(20,5))\n",
    "g=sns.barplot(x=data['Director'].value_counts()[:10].index,y=data['Director'].value_counts()[:10])\n",
    "g.set_title(\"Mostly Occurred Directors\", weight = \"bold\")\n",
    "g.set_xlabel(\"Directors\", weight = \"bold\")\n",
    "plt.show()"
   ]
  },
  {
   "cell_type": "markdown",
   "metadata": {},
   "source": [
    "### Directors with respect to Gross of the movies"
   ]
  },
  {
   "cell_type": "code",
   "execution_count": null,
   "metadata": {
    "trusted": true
   },
   "outputs": [],
   "source": [
    "fig,axs=plt.subplots(figsize=(20,5))\n",
    "g=sns.barplot(x=data['Director'].value_counts()[:10].index,y=data['Gross'].value_counts()[:10])\n",
    "g.set_title(\"Directors\", weight = \"bold\")\n",
    "g.set_xlabel(\"Mostly Occurred\", weight = \"bold\")\n",
    "plt.show()"
   ]
  },
  {
   "cell_type": "markdown",
   "metadata": {},
   "source": [
    "### Runtime of the movies"
   ]
  },
  {
   "cell_type": "code",
   "execution_count": null,
   "metadata": {
    "trusted": true
   },
   "outputs": [],
   "source": [
    "import re\n",
    "duration=[]\n",
    "for x in data[\"Runtime\"]:\n",
    "    p=re.compile('\\d+')\n",
    "    j=p.findall(x)\n",
    "    if len(j)==2:\n",
    "        duration.append(int(j[1])-int(j[0])+1)\n",
    "    else:\n",
    "        duration.append(int(j[0])+1)\n",
    "data['duration']=duration"
   ]
  },
  {
   "cell_type": "code",
   "execution_count": null,
   "metadata": {
    "trusted": true
   },
   "outputs": [],
   "source": [
    "data['duration'].head()"
   ]
  },
  {
   "cell_type": "code",
   "execution_count": null,
   "metadata": {
    "trusted": true
   },
   "outputs": [],
   "source": [
    "fig,axs=plt.subplots(figsize=(20,5))\n",
    "g=sns.kdeplot(data['duration'])\n",
    "g.set_title(\"Time Duration of movies\", weight = \"bold\")"
   ]
  },
  {
   "cell_type": "markdown",
   "metadata": {},
   "source": [
    "### Stars with most Occurences in movies"
   ]
  },
  {
   "cell_type": "code",
   "execution_count": null,
   "metadata": {
    "trusted": true
   },
   "outputs": [],
   "source": [
    "stars=['Star1','Star2','Star3','Star4']\n",
    "fig,axs=plt.subplots(4,1,figsize=(20,7))\n",
    "ax=0\n",
    "for x in stars:\n",
    "    axs[ax].bar(data[x].value_counts()[:10].index,data[x].value_counts()[:10])\n",
    "    axs[ax].set_title(x)\n",
    "    axs[ax].set_ylabel(\"Appearances\", weight = \"bold\")\n",
    "    ax+=1\n",
    "    plt.tight_layout()"
   ]
  },
  {
   "cell_type": "markdown",
   "metadata": {},
   "source": [
    "### Appearances of Stars in Top voted movies"
   ]
  },
  {
   "cell_type": "code",
   "execution_count": null,
   "metadata": {
    "trusted": true
   },
   "outputs": [],
   "source": [
    "stars=['Star1','Star2','Star3','Star4']\n",
    "fig,axs=plt.subplots(4,1,figsize=(20,7))\n",
    "ax=0\n",
    "for x in stars:\n",
    "    s=data.groupby([x]).sum().reset_index()\n",
    "    d=s.sort_values(['No_of_Votes'],ascending=False)[:10]\n",
    "    axs[ax].bar(d[x],d['No_of_Votes'])\n",
    "    axs[ax].set_title(x)\n",
    "    axs[ax].set_ylabel(\"Appearances\", weight = \"bold\")\n",
    "    ax+=1\n",
    "    plt.tight_layout()"
   ]
  },
  {
   "cell_type": "markdown",
   "metadata": {},
   "source": [
    "### Appearances of Stars in top grossed movies"
   ]
  },
  {
   "cell_type": "code",
   "execution_count": null,
   "metadata": {
    "trusted": true
   },
   "outputs": [],
   "source": [
    "stars=['Star1','Star2','Star3','Star4']\n",
    "fig,axs=plt.subplots(4,1,figsize=(20,7))\n",
    "ax=0\n",
    "for x in stars:\n",
    "    s=data.groupby([x]).sum().reset_index()\n",
    "    d=s.sort_values(['Gross'],ascending=False)[:10]\n",
    "    axs[ax].bar(d[x],d['Gross'])\n",
    "    axs[ax].set_title(x)\n",
    "    axs[ax].set_ylabel(\"Appearances\", weight = \"bold\")\n",
    "    ax+=1\n",
    "    plt.tight_layout()"
   ]
  },
  {
   "cell_type": "markdown",
   "metadata": {},
   "source": [
    "### Appearances of Stars in top rated movies"
   ]
  },
  {
   "cell_type": "code",
   "execution_count": null,
   "metadata": {
    "trusted": true
   },
   "outputs": [],
   "source": [
    "stars=['Star1','Star2','Star3','Star4']\n",
    "fig,axs=plt.subplots(4,1,figsize=(20,7))\n",
    "ax=0\n",
    "for x in stars:\n",
    "    s=data.groupby([x]).sum().reset_index()\n",
    "    d=s.sort_values(['IMDB_Rating'],ascending=False)[:10]\n",
    "    axs[ax].bar(d[x],d['IMDB_Rating'])\n",
    "    axs[ax].set_title(x)\n",
    "    axs[ax].set_ylabel(\"Appearances\", weight = \"bold\")\n",
    "    ax+=1\n",
    "    plt.tight_layout()"
   ]
  },
  {
   "cell_type": "markdown",
   "metadata": {},
   "source": [
    "### Appearances of Stars in top meta_scores"
   ]
  },
  {
   "cell_type": "code",
   "execution_count": null,
   "metadata": {
    "trusted": true
   },
   "outputs": [],
   "source": [
    "stars=['Star1','Star2','Star3','Star4']\n",
    "fig,axs=plt.subplots(4,1,figsize=(17,7))\n",
    "ax=0\n",
    "for x in stars:\n",
    "    s=data.groupby([x]).sum().reset_index()\n",
    "    d=s.sort_values(['Meta_score'],ascending=False)[:10]\n",
    "    axs[ax].bar(d[x],d['Meta_score'])\n",
    "    axs[ax].set_title(x)\n",
    "    axs[ax].set_ylabel(\"Appearances\", weight = \"bold\")\n",
    "    ax+=1\n",
    "    plt.tight_layout()"
   ]
  },
  {
   "cell_type": "markdown",
   "metadata": {},
   "source": [
    "### Checking null values in Certificate columns"
   ]
  },
  {
   "cell_type": "code",
   "execution_count": null,
   "metadata": {
    "trusted": true
   },
   "outputs": [],
   "source": [
    "data['Certificate'].isnull().sum()"
   ]
  },
  {
   "cell_type": "code",
   "execution_count": null,
   "metadata": {
    "trusted": true
   },
   "outputs": [],
   "source": [
    "data['Certificate']=data['Certificate'].fillna('Not Rated')\n",
    "\n",
    "certificates=data[data['Certificate']!='Not Rated']['Certificate']\n",
    "fig,axs=plt.subplots(figsize=(20,5))\n",
    "g=sns.countplot(certificates)\n",
    "g.set_title(\"Count of Certificates provided\", weight = \"bold\")\n",
    "plt.show()"
   ]
  },
  {
   "cell_type": "markdown",
   "metadata": {},
   "source": [
    "### IMDB Rating Distribution"
   ]
  },
  {
   "cell_type": "code",
   "execution_count": null,
   "metadata": {
    "trusted": true
   },
   "outputs": [],
   "source": [
    "fig,axs=plt.subplots(figsize=(20,5))\n",
    "g=sns.distplot(data['IMDB_Rating'],bins=30)\n",
    "g.set_title(\"Distribution of Ratings\", weight = \"bold\")\n",
    "plt.show()"
   ]
  },
  {
   "cell_type": "markdown",
   "metadata": {},
   "source": [
    "### Top 10 Genres"
   ]
  },
  {
   "cell_type": "code",
   "execution_count": null,
   "metadata": {
    "trusted": true
   },
   "outputs": [],
   "source": [
    "from collections import Counter\n",
    "genre=[]\n",
    "for x in data['Genre']:\n",
    "    for y in x.split(','):\n",
    "        genre.append(y.strip().lower())\n",
    "\n",
    "count=Counter(genre)\n",
    "count=count.most_common()[:10]\n",
    "x,y=map(list,zip(*count))\n",
    "\n",
    "fig,axs=plt.subplots(figsize=(20,5))\n",
    "g=sns.barplot(y,x)\n",
    "g.set_ylabel(\"Genres\", weight = \"bold\")\n",
    "g.set_title(\"Top Ten Genres\", weight = \"bold\")\n",
    "plt.show()"
   ]
  }
 ],
 "metadata": {
  "kaggle": {
   "accelerator": "none",
   "dataSources": [
    {
     "datasetId": 1131493,
     "sourceId": 1898721,
     "sourceType": "datasetVersion"
    }
   ],
   "dockerImageVersionId": 30066,
   "isGpuEnabled": false,
   "isInternetEnabled": false,
   "language": "python",
   "sourceType": "notebook"
  },
  "kernelspec": {
   "display_name": "Portfolio",
   "language": "python",
   "name": "python3"
  },
  "language_info": {
   "codemirror_mode": {
    "name": "ipython",
    "version": 3
   },
   "file_extension": ".py",
   "mimetype": "text/x-python",
   "name": "python",
   "nbconvert_exporter": "python",
   "pygments_lexer": "ipython3",
   "version": "3.13.1"
  }
 },
 "nbformat": 4,
 "nbformat_minor": 4
}
