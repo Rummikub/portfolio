{
 "cells": [
  {
   "cell_type": "markdown",
   "metadata": {},
   "source": [
    "## About this file\n",
    "- load json gzip file\n",
    "- read and convert json into txt\n",
    "- extract conversation between agent and customer only"
   ]
  },
  {
   "cell_type": "code",
   "execution_count": 2,
   "metadata": {},
   "outputs": [],
   "source": [
    "# Import all packages\n",
    "import json\n",
    "import gzip\n",
    "import pandas as pd\n",
    "import numpy as np"
   ]
  },
  {
   "cell_type": "markdown",
   "metadata": {},
   "source": [
    "##### Data size\n",
    "len(json_text) : 201712280 \n",
    "\n",
    "##### Sample data\n",
    "[{\"convo_id\": 3592, \"original\": [[\"agent\", \"Hi!\"], [\"agent\", \"How can I help you?\"], [\"customer\", \"Hi!]]}]"
   ]
  },
  {
   "cell_type": "code",
   "execution_count": 3,
   "metadata": {},
   "outputs": [
    {
     "data": {
      "text/html": [
       "<div>\n",
       "<style scoped>\n",
       "    .dataframe tbody tr th:only-of-type {\n",
       "        vertical-align: middle;\n",
       "    }\n",
       "\n",
       "    .dataframe tbody tr th {\n",
       "        vertical-align: top;\n",
       "    }\n",
       "\n",
       "    .dataframe thead th {\n",
       "        text-align: right;\n",
       "    }\n",
       "</style>\n",
       "<table border=\"1\" class=\"dataframe\">\n",
       "  <thead>\n",
       "    <tr style=\"text-align: right;\">\n",
       "      <th></th>\n",
       "      <th>0</th>\n",
       "    </tr>\n",
       "  </thead>\n",
       "  <tbody>\n",
       "    <tr>\n",
       "      <th>0</th>\n",
       "      <td>{\"train\": [{\"convo_id\": 3592, \"scenario\": {\"pe...</td>\n",
       "    </tr>\n",
       "  </tbody>\n",
       "</table>\n",
       "</div>"
      ],
      "text/plain": [
       "                                                   0\n",
       "0  {\"train\": [{\"convo_id\": 3592, \"scenario\": {\"pe..."
      ]
     },
     "execution_count": 3,
     "metadata": {},
     "output_type": "execute_result"
    }
   ],
   "source": [
    "# 1. Without unzip file\n",
    "\n",
    "# open json file\n",
    "filepath = \"C:/Users/dotto/asapp-2b/data/abcd_v1.1.json.gz\"\n",
    "\n",
    "# Select 'original' column and tokenize\n",
    "with gzip.open(filepath, mode='rt') as f:\n",
    "    text = f.readlines()\n",
    "\n",
    "# convert into text \n",
    "# Append into list \n",
    "data = []\n",
    "for t in text:\n",
    "    data.append(t)\n",
    "\n",
    "train_df = pd.DataFrame(data)\n",
    "train_df.head()"
   ]
  },
  {
   "cell_type": "code",
   "execution_count": 4,
   "metadata": {},
   "outputs": [
    {
     "data": {
      "text/plain": [
       "[['agent', 'Hi!'],\n",
       " ['agent', 'How can I help you?'],\n",
       " ['customer', 'Hi! I need to return an item, can you help me with that?'],\n",
       " ['agent', 'sure, may I have your name please?'],\n",
       " ['customer', 'Crystal Minh'],\n",
       " ['agent', 'thanks, may I ask the reason for the return?'],\n",
       " ['action', 'Account has been pulled up for Crystal Minh.'],\n",
       " ['customer', 'I got the wrong size.'],\n",
       " ['agent', 'ok, may I have your username, email address and order ID please?'],\n",
       " ['customer', 'Username: cminh730'],\n",
       " ['customer', 'cminh730@email.com'],\n",
       " ['customer', 'Order ID: 3348917502'],\n",
       " ['action', 'Purchase validation in progress ...'],\n",
       " ['agent', 'thanks so much! What is your membership level Crystal?'],\n",
       " ['customer', \"I'm a bronze\"],\n",
       " ['agent', 'ok, was the purchase made in the last 90 days?'],\n",
       " ['customer', 'No, I bought it in November.'],\n",
       " ['agent',\n",
       "  'ok, unfortunately because it has been more than 90 days we cannot accept the return. Would there be anything else I can help you with?'],\n",
       " ['customer', 'What if I ask really, really nicely?'],\n",
       " ['agent', \"I can escalate to my manager if you'd like\"],\n",
       " ['agent', \"I'd just need your phone number.\"],\n",
       " ['customer', '(977) 625-2661'],\n",
       " ['action', 'Details of (977) 625-2661 have been entered.'],\n",
       " ['action', 'The manager has been notified.'],\n",
       " ['customer', \"I'll look forward to hearing from them.\"],\n",
       " ['customer', 'Thanks for trying to help.'],\n",
       " ['agent',\n",
       "  \"OK, I have let my manager know, they will give you a call. Sorry I couldn't be of more assistance!\"],\n",
       " ['agent', 'Have a great night!'],\n",
       " ['customer', \"That's it. Take care.\"]]"
      ]
     },
     "execution_count": 4,
     "metadata": {},
     "output_type": "execute_result"
    }
   ],
   "source": [
    "# 2. Read gzip file and extract original column\n",
    "# File path to your Gzip-compressed data file\n",
    "filepath = \"C:/Users/dotto/asapp-2b/data/abcd_v1.1.json.gz\"\n",
    "\n",
    "\n",
    "# Open and read the gzip file\n",
    "with gzip.open(filepath, 'rt', encoding='utf-8') as f:\n",
    "    data = json.load(f)\n",
    "    \n",
    "#print(data.keys())\n",
    "# ['train','dev','test']\n",
    "# we will use train data\n",
    "\n",
    "\n",
    "# extract original column\n",
    "original=[]\n",
    "for text in data['train'][0]['original']:\n",
    "    original.append(text)\n",
    "    \n",
    "# sneak peak!   \n",
    "original\n"
   ]
  },
  {
   "cell_type": "code",
   "execution_count": 5,
   "metadata": {},
   "outputs": [],
   "source": [
    "# 3. Save train_data text file\n",
    "output_string = \"\"\n",
    "for element in data[\"train\"]:\n",
    "    stringify = \"\"\n",
    "    for conversation in element[\"original\"]:\n",
    "        if conversation[0] == \"action\":\n",
    "            continue\n",
    "        stringify = f\"\"\"{stringify} {conversation[0]}: {conversation[1]}\"\"\"\n",
    "    output_string = output_string +\"\\n\"+stringify.strip()\n",
    "\n",
    "with open(\"data/train_data.txt\", \"w\") as text_file:\n",
    "    text_file.write(output_string.strip())"
   ]
  }
 ],
 "metadata": {
  "kernelspec": {
   "display_name": "conda",
   "language": "python",
   "name": "conda"
  },
  "language_info": {
   "codemirror_mode": {
    "name": "ipython",
    "version": 3
   },
   "file_extension": ".py",
   "mimetype": "text/x-python",
   "name": "python",
   "nbconvert_exporter": "python",
   "pygments_lexer": "ipython3",
   "version": "3.9.7"
  },
  "orig_nbformat": 4
 },
 "nbformat": 4,
 "nbformat_minor": 2
}
