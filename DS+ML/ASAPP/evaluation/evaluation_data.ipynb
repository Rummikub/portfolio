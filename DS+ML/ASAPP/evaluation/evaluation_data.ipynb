{
 "cells": [
  {
   "cell_type": "markdown",
   "metadata": {},
   "source": [
    "#### About this file\n",
    "1. create xlsx file in test data format __'context', 'true_response_agent'__\n",
    "2. keep tracking conversations\n",
    "3. evaluate model using Trainer method by following format: __prompt = context + \"agent:\" , pred_response = model.generate(prompt)__"
   ]
  },
  {
   "cell_type": "code",
   "execution_count": 1,
   "metadata": {},
   "outputs": [],
   "source": [
    "#Create test data format\n",
    "import json\n",
    "import gzip\n",
    "import numpy as np\n",
    "import pandas as pd"
   ]
  },
  {
   "cell_type": "code",
   "execution_count": 31,
   "metadata": {},
   "outputs": [],
   "source": [
    "\n",
    "filepath = \"data/abcd_v1.1.json.gz\"\n",
    "\n",
    "with gzip.open(filepath, 'rt', encoding='utf-8') as f:\n",
    "    data = json.load(f)\n",
    "    \n",
    "# Create empty dataframe variable df\n",
    "df = pd.DataFrame(columns=[\"convo_id\",\"context\", \"true_agent_response\"])\n",
    "\n",
    "# Seperate convo\n",
    "convo_id = 1 \n",
    "\n",
    "# There are three keys ['dev','train','test']\n",
    "# We use test column and convert them into test_data format\n",
    "for element in data[\"test\"]:\n",
    "    \n",
    "    # column1\n",
    "    context = \"\"\n",
    "    # column2 \n",
    "    # keep appending agent's response till each conversation ends\n",
    "    true_agent_response = \"\"\n",
    "    \n",
    "    # conversation btwn customer and agent stored in original column\n",
    "    for conversation in element[\"original\"]:\n",
    "        #to distinguish speaker (agent,customer) and convo (text)\n",
    "        speaker, text = conversation\n",
    "        \n",
    "        # delete action: ....\n",
    "        if speaker == 'action' or 'Action' in context:\n",
    "                continue   \n",
    "        \n",
    "        # Build the context based on speaker\n",
    "        context = f\"{context} {speaker}: {text}\"\n",
    "    \n",
    "        # if text is the convo between existing customer and agent \n",
    "        if speaker == \"agent\" and \"customer\" in context:\n",
    "        \n",
    "            #store the response in true_agent_response\n",
    "            true_agent_response = text\n",
    "            df = df.append({\"convo_id\": convo_id, \"context\": context.replace('agent: '+text,''), \"true_agent_response\": true_agent_response}, ignore_index=True) # index=False\n",
    "\n",
    "    # empty row to separate conversations\n",
    "    convo_id += 1\n",
    "\n",
    "#save as csv\n",
    "df.to_excel(\"data/evaluate_final_data.xlsx\", index=False)\n"
   ]
  },
  {
   "cell_type": "markdown",
   "metadata": {},
   "source": [
    "###### Evaluation excel file created, move to evaluation file"
   ]
  }
 ],
 "metadata": {
  "kernelspec": {
   "display_name": "conda",
   "language": "python",
   "name": "conda"
  },
  "language_info": {
   "codemirror_mode": {
    "name": "ipython",
    "version": 3
   },
   "file_extension": ".py",
   "mimetype": "text/x-python",
   "name": "python",
   "nbconvert_exporter": "python",
   "pygments_lexer": "ipython3",
   "version": "3.9.7"
  },
  "orig_nbformat": 4
 },
 "nbformat": 4,
 "nbformat_minor": 2
}
