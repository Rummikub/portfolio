{
 "cells": [
  {
   "cell_type": "markdown",
   "metadata": {},
   "source": [
    "### About this File\n",
    "- goal of EDA is data cleaning\n",
    "- split all conversations into two parts and save into csv file \"train_data.csv\"\n",
    "1. Context : first greetings between agent and customer\n",
    "2. true_response_agent : actual agent's answer/action"
   ]
  },
  {
   "cell_type": "code",
   "execution_count": 9,
   "metadata": {},
   "outputs": [],
   "source": [
    "# Import libraries\n",
    "import pandas as pd\n",
    "import numpy as np\n",
    "import re\n",
    "import gzip # create test text file\n",
    "import json"
   ]
  },
  {
   "cell_type": "code",
   "execution_count": 10,
   "metadata": {},
   "outputs": [],
   "source": [
    "# Open train_data file\n",
    "filepath = '../data/train_data.txt'\n",
    "\n",
    "# open train_text file and read line by line\n",
    "with open(filepath,'r') as file : \n",
    "    for line in file:\n",
    "        lines = line.split(\" \")\n",
    "\n",
    "# Read from the beginning\n",
    "i = 0\n",
    "current_speaker_is_agent= True\n",
    "current_sentence = []\n",
    "\n",
    "# Initialize variables\n",
    "context = []\n",
    "true_response_agent = []\n",
    "\n",
    "# for loop\n",
    "# count i till 2, then stop\n",
    "for word in lines:\n",
    "    if word == 'agent:' and i != 1:\n",
    "        current_speaker_is_agent = True\n",
    "        if len(current_sentence) > 0:\n",
    "            context.append(' '.join(current_sentence))\n",
    "            current_sentence = []\n",
    "        i += 1\n",
    "        continue\n",
    "    elif word == 'customer:':\n",
    "        current_speaker_is_agent = False\n",
    "        if len(current_sentence) > 0:\n",
    "            context.append(' '.join(current_sentence))\n",
    "            current_sentence=[]\n",
    "            continue\n",
    "    else:   break\n",
    "current_sentence.append(word)\n",
    "\n",
    "# Updata: wondering we should still split convos into agent, response.."
   ]
  },
  {
   "cell_type": "code",
   "execution_count": 13,
   "metadata": {},
   "outputs": [],
   "source": [
    "# Save test_data text file\n",
    "\n",
    "filepath = \"../data/abcd_v1.1.json.gz\"\n",
    "\n",
    "with gzip.open(filepath, 'rt', encoding='utf-8') as f:\n",
    "    data = json.load(f)\n",
    "    \n",
    "#print(data.keys())\n",
    "# ['train','dev','test']\n",
    "# create test data for training \n",
    "\n",
    "output_string = ''\n",
    "for element in data[\"test\"]:\n",
    "    stringify = \"\"\n",
    "    for conversation in element[\"original\"]:\n",
    "        if conversation[0] == \"action\":\n",
    "            continue\n",
    "        stringify = f\"\"\"{stringify} {conversation[0]}: {conversation[1]}\"\"\"\n",
    "    output_string = output_string +\"\\n\"+stringify.strip()\n",
    "\n",
    "with open(\"../data/test_data.txt\", \"w\") as text_file:\n",
    "    text_file.write(output_string.strip())"
   ]
  }
 ],
 "metadata": {
  "kernelspec": {
   "display_name": "conda",
   "language": "python",
   "name": "conda"
  },
  "language_info": {
   "codemirror_mode": {
    "name": "ipython",
    "version": 3
   },
   "file_extension": ".py",
   "mimetype": "text/x-python",
   "name": "python",
   "nbconvert_exporter": "python",
   "pygments_lexer": "ipython3",
   "version": "3.9.7"
  },
  "orig_nbformat": 4
 },
 "nbformat": 4,
 "nbformat_minor": 2
}
