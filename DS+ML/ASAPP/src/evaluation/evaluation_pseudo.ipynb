{
 "cells": [
  {
   "cell_type": "code",
   "execution_count": 3,
   "metadata": {},
   "outputs": [
    {
     "ename": "ModuleNotFoundError",
     "evalue": "No module named 'evaluate'",
     "output_type": "error",
     "traceback": [
      "\u001b[1;31m---------------------------------------------------------------------------\u001b[0m",
      "\u001b[1;31mModuleNotFoundError\u001b[0m                       Traceback (most recent call last)",
      "\u001b[1;32m~\\AppData\\Local\\Temp/ipykernel_44888/1401657462.py\u001b[0m in \u001b[0;36m<module>\u001b[1;34m\u001b[0m\n\u001b[0;32m      1\u001b[0m \u001b[1;32mimport\u001b[0m \u001b[0mtransformers\u001b[0m\u001b[1;33m\u001b[0m\u001b[1;33m\u001b[0m\u001b[0m\n\u001b[0;32m      2\u001b[0m \u001b[1;32mimport\u001b[0m \u001b[0mtorch\u001b[0m\u001b[1;33m\u001b[0m\u001b[1;33m\u001b[0m\u001b[0m\n\u001b[1;32m----> 3\u001b[1;33m \u001b[1;32mimport\u001b[0m \u001b[0mevaluate\u001b[0m\u001b[1;33m\u001b[0m\u001b[1;33m\u001b[0m\u001b[0m\n\u001b[0m\u001b[0;32m      4\u001b[0m \u001b[1;32mfrom\u001b[0m \u001b[0mevaluate\u001b[0m \u001b[1;32mimport\u001b[0m \u001b[0mload\u001b[0m\u001b[1;33m\u001b[0m\u001b[1;33m\u001b[0m\u001b[0m\n\u001b[0;32m      5\u001b[0m \u001b[0mbertscore\u001b[0m \u001b[1;33m=\u001b[0m \u001b[0mload\u001b[0m\u001b[1;33m(\u001b[0m\u001b[1;34m\"bertscore\"\u001b[0m\u001b[1;33m)\u001b[0m\u001b[1;33m\u001b[0m\u001b[1;33m\u001b[0m\u001b[0m\n",
      "\u001b[1;31mModuleNotFoundError\u001b[0m: No module named 'evaluate'"
     ]
    }
   ],
   "source": [
    "import transformers\n",
    "import torch\n",
    "from evaluate import load\n",
    "bertscore = load(\"bertscore\")\n",
    "predictions = [\"hello there\", \"general kenobi\"]\n",
    "references = [\"hello there\", \"general kenobi\"]\n",
    "results = bertscore.compute(predictions=predictions, references=references, lang=\"en\")"
   ]
  },
  {
   "cell_type": "code",
   "execution_count": null,
   "metadata": {},
   "outputs": [],
   "source": [
    "def generate(context, model, tokenizer):\n",
    "      # create prompt\n",
    "  prompt = context + \"agent: \"\n",
    "\n",
    "  # tokenize input (string -> tensor)\n",
    "  input_ids = tokenizer(prompt).input_ids\n",
    "\n",
    "  # call model generate (https://huggingface.co/docs/transformers/v4.34.0/en/main_classes/text_generation#transformers.GenerationMixin.generate)\n",
    "  output_ids = model.generate(input_ids, max_new_tokens = , eos_token_id = )\n",
    "  \n",
    "  # decode output (tensor -> string)\n",
    "  pred_response = tokenizer.batch_decode(output_ids, skip_special_tokens = True)\n",
    "\n",
    "return pred_response\n",
    "\n",
    "def main():\n",
    "  ## load test data using pandas\n",
    "  test_data = load(\"test_data.csv\")\n",
    "  context_response_pairs = subsample(test_data, n=1000) \n",
    "\n",
    "  ## look into AutoModelForCausalLM.from_pretrained()\n",
    "  model_path = \"dir/\"\n",
    "  model, tokenizer = load_model(model_path)\n",
    "  \n",
    "  # loop over the test set and collect pred, true responses into a list\n",
    "  all_pred_responses, all_true_responses = [], []\n",
    "  for context, true_response in context_response_pairs:\n",
    "    pred_response = generate(context, model, tokenizer)\n",
    "    all_pred_responses.append(pred_response)\n",
    "    all_true_responses.append(true_response)\n",
    "   \n",
    "  # Evaluation metric: https://huggingface.co/spaces/evaluate-metric/bertscore (use the f1 scores from the results)\n",
    "  bertscore = load(\"bertscore\")\n",
    "  results = bertscore.compute(pred_response_list, true_response_list)"
   ]
  }
 ],
 "metadata": {
  "kernelspec": {
   "display_name": "conda",
   "language": "python",
   "name": "conda"
  },
  "language_info": {
   "codemirror_mode": {
    "name": "ipython",
    "version": 3
   },
   "file_extension": ".py",
   "mimetype": "text/x-python",
   "name": "python",
   "nbconvert_exporter": "python",
   "pygments_lexer": "ipython3",
   "version": "3.9.7"
  },
  "orig_nbformat": 4
 },
 "nbformat": 4,
 "nbformat_minor": 2
}
