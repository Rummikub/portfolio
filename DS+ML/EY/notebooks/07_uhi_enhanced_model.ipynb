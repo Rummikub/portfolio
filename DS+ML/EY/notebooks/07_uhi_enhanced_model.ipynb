{
 "cells": [
  {
   "cell_type": "markdown",
   "metadata": {},
   "source": [
    "# Enhanced UHI Prediction Model\n",
    "\n",
    "Improvements:\n",
    "1. Advanced Feature Engineering\n",
    "2. XGBoost Model + Neural Network Ensemble\n",
    "3. Feature Importance Analysis\n",
    "4. Cross-Validation"
   ]
  },
  {
   "cell_type": "code",
   "execution_count": null,
   "metadata": {},
   "source": [
    "import pandas as pd\n",
    "import numpy as np\n",
    "import pickle\n",
    "from sklearn.preprocessing import StandardScaler, RobustScaler\n",
    "from sklearn.model_selection import KFold\n",
    "import tensorflow as tf\n",
    "from tensorflow.keras.models import Sequential, Model\n",
    "from tensorflow.keras.layers import Dense, Dropout, BatchNormalization, Input, Concatenate\n",
    "import xgboost as xgb\n",
    "from sklearn.metrics import mean_squared_error, r2_score\n",
    "import matplotlib.pyplot as plt\n",
    "import seaborn as sns"
   ]
  },
  {
   "cell_type": "markdown",
   "metadata": {},
   "source": [
    "## 1. Load and Prepare Data"
   ]
  },
  {
   "cell_type": "code",
   "execution_count": null,
   "metadata": {},
   "source": [
    "# Load data\n",
    "with open('train_features (1).pkl', 'rb') as f:\n",
    "    train_features = pickle.load(f)\n",
    "\n",
    "with open('submit_features.pkl', 'rb') as f:\n",
    "    test_df = pickle.load(f)\n",
    "\n",
    "train_df = pd.read_csv('Training_data_uhi_index_UHI2025-v2.csv')\n",
    "\n",
    "print(\"Training features shape:\", train_features.shape)\n",
    "print(\"Test data shape:\", test_df.shape)"
   ]
  },
  {
   "cell_type": "markdown",
   "metadata": {},
   "source": [
    "## 2. Advanced Feature Engineering"
   ]
  },
  {
   "cell_type": "code",
   "execution_count": null,
   "metadata": {},
   "source": [
    "def engineer_features(df):\n",
    "    # Create copy to avoid modifying original\n",
    "    df = df.copy()\n",
    "    \n",
    "    # Temperature-related features\n",
    "    df['temp_range'] = df['temp_max'] - df['temp_min']\n",
    "    df['temp_to_humidity'] = df['temp_mean'] / df['humidity_mean']\n",
    "    \n",
    "    # LST-related features\n",
    "    df['lst_to_temp'] = df['lst'] / df['temp_mean']\n",
    "    df['lst_anomaly'] = df['lst'] - df['temp_mean']\n",
    "    \n    # Building-related features\n",
    "    if 'building_density' in df.columns:\n",
    "        df['building_volume'] = df['building_density'] * df['avg_building_height']\n",
    "        df['building_efficiency'] = df['building_coverage'] / df['building_density']\n",
    "    \n",
    "    # Interaction features\n",
    "    df['temp_humidity_interaction'] = df['temp_mean'] * df['humidity_mean']\n",
    "    \n",
    "    # Normalize s2_features\n",
    "    df['s2_features_norm'] = df['s2_features'] / df['s2_features'].max()\n",
    "    \n",
    "    return df\n",
    "\n",
    "# Apply feature engineering\n",
    "train_features_eng = engineer_features(train_features)\n",
    "test_features_eng = engineer_features(test_df)\n",
    "\n",
    "# Define final feature set\n",
    "features = [\n",
    "    'lst', 's2_features', 'temp_mean', 'temp_max', 'temp_min',\n",
    "    'temp_std', 'humidity_mean', 'humidity_max', 'humidity_min',\n",
    "    'temp_range', 'temp_to_humidity', 'lst_to_temp', 'lst_anomaly',\n",
    "    'temp_humidity_interaction', 's2_features_norm'\n",
    "]\n",
    "\n",
    "# Prepare features and target\n",
    "X = train_features_eng[features]\n",
    "y = train_df['UHI Index']\n",
    "X_test = test_features_eng[features]\n",
    "\n",
    "# Scale features\n",
    "scaler = RobustScaler()  # More robust to outliers than StandardScaler\n",
    "X_scaled = scaler.fit_transform(X)\n",
    "X_test_scaled = scaler.transform(X_test)\n",
    "\n",
    "print(\"Final feature set shape:\", X_scaled.shape)"
   ]
  },
  {
   "cell_type": "markdown",
   "metadata": {},
   "source": [
    "## 3. Create Enhanced Neural Network"
   ]
  },
  {
   "cell_type": "code",
   "execution_count": null,
   "metadata": {},
   "source": [
    "def create_enhanced_nn(input_dim):\n",
    "    # Main input\n",
    "    main_input = Input(shape=(input_dim,))\n",
    "    \n    # Branch 1 - Deep network for complex patterns\n",
    "    x1 = Dense(128, activation='relu')(main_input)\n",
    "    x1 = BatchNormalization()(x1)\n",
    "    x1 = Dropout(0.3)(x1)\n",
    "    x1 = Dense(64, activation='relu')(x1)\n",
    "    x1 = BatchNormalization()(x1)\n",
    "    \n",
    "    # Branch 2 - Shallow network for direct relationships\n",
    "    x2 = Dense(32, activation='relu')(main_input)\n",
    "    x2 = BatchNormalization()(x2)\n",
    "    \n",
    "    # Merge branches\n",
    "    merged = Concatenate()([x1, x2])\n",
    "    \n    # Output layer\n",
    "    output = Dense(1, activation='linear')(merged)\n",
    "    \n    # Create model\n",
    "    model = Model(inputs=main_input, outputs=output)\n",
    "    \n    # Compile with custom learning rate\n",
    "    optimizer = tf.keras.optimizers.Adam(learning_rate=0.001)\n",
    "    model.compile(optimizer=optimizer, loss='mse', metrics=['mae'])\n",
    "    \n    return model\n",
    "\n",
    "# Create XGBoost model\n",
    "xgb_model = xgb.XGBRegressor(\n",
    "    n_estimators=1000,\n",
    "    learning_rate=0.01,\n",
    "    max_depth=6,\n",
    "    min_child_weight=1,\n",
    "    subsample=0.8,\n",
    "    colsample_bytree=0.8,\n",
    "    random_state=42\n",
    ")"
   ]
  },
  {
   "cell_type": "markdown",
   "metadata": {},
   "source": [
    "## 4. Cross-Validation Training"
   ]
  },
  {
   "cell_type": "code",
   "execution_count": null,
   "metadata": {},
   "source": [
    "# Initialize K-Fold\n",
    "kfold = KFold(n_splits=5, shuffle=True, random_state=42)\n",
    "\n",
    "# Lists to store predictions\n",
    "nn_predictions = np.zeros((X_test.shape[0],))\n",
    "xgb_predictions = np.zeros((X_test.shape[0],))\n",
    "val_scores = []\n",
    "\n",
    "# Train models with cross-validation\n",
    "for fold, (train_idx, val_idx) in enumerate(kfold.split(X_scaled)):\n",
    "    print(f\"\\nFold {fold + 1}\")\n",
    "    \n    # Split data\n",
    "    X_train_fold = X_scaled[train_idx]\n",
    "    y_train_fold = y.iloc[train_idx]\n",
    "    X_val_fold = X_scaled[val_idx]\n",
    "    y_val_fold = y.iloc[val_idx]\n",
    "    \n    # Train Neural Network\n",
    "    nn_model = create_enhanced_nn(X_scaled.shape[1])\n",
    "    early_stopping = tf.keras.callbacks.EarlyStopping(\n",
    "        monitor='val_loss',\n",
    "        patience=10,\n",
    "        restore_best_weights=True\n",
    "    )\n",
    "    \n    nn_model.fit(\n",
    "        X_train_fold, y_train_fold,\n",
    "        validation_data=(X_val_fold, y_val_fold),\n",
    "        epochs=100,\n",
    "        batch_size=32,\n",
    "        callbacks=[early_stopping],\n",
    "        verbose=0\n",
    "    )\n",
    "    \n    # Train XGBoost\n",
    "    xgb_model.fit(\n",
    "        X_train_fold, y_train_fold,\n",
    "        eval_set=[(X_val_fold, y_val_fold)],\n",
    "        early_stopping_rounds=50,\n",
    "        verbose=0\n",
    "    )\n",
    "    \n    # Make predictions\n",
    "    nn_fold_pred = nn_model.predict(X_test_scaled, verbose=0)\n",
    "    xgb_fold_pred = xgb_model.predict(X_test_scaled)\n",
    "    \n    nn_predictions += nn_fold_pred.flatten()\n",
    "    xgb_predictions += xgb_fold_pred\n",
    "    \n    # Validate fold\n",
    "    val_pred = 0.6 * nn_model.predict(X_val_fold, verbose=0).flatten() + \\\n",
    "               0.4 * xgb_model.predict(X_val_fold)\n",
    "    val_score = r2_score(y_val_fold, val_pred)\n",
    "    val_scores.append(val_score)\n",
    "    print(f\"Fold {fold + 1} R² Score: {val_score:.4f}\")\n",
    "\n",
    "# Average predictions\n",
    "nn_predictions /= 5\n",
    "xgb_predictions /= 5\n",
    "\n",
    "# Ensemble predictions (weighted average)\n",
    "final_predictions = 0.6 * nn_predictions + 0.4 * xgb_predictions\n",
    "\n",
    "print(f\"\\nAverage Cross-Validation R² Score: {np.mean(val_scores):.4f} ± {np.std(val_scores):.4f}\")"
   ]
  },
  {
   "cell_type": "markdown",
   "metadata": {},
   "source": [
    "## 5. Feature Importance Analysis"
   ]
  },
  {
   "cell_type": "code",
   "execution_count": null,
   "metadata": {},
   "source": [
    "# Get feature importance from XGBoost\n",
    "feature_importance = pd.DataFrame({\n",
    "    'feature': features,\n",
    "    'importance': xgb_model.feature_importances_\n",
    "})\n",
    "feature_importance = feature_importance.sort_values('importance', ascending=False)\n",
    "\n",
    "# Plot feature importance\n",
    "plt.figure(figsize=(12, 6))\n",
    "sns.barplot(data=feature_importance, x='importance', y='feature')\n",
    "plt.title('Feature Importance')\n",
    "plt.show()"
   ]
  },
  {
   "cell_type": "markdown",
   "metadata": {},
   "source": [
    "## 6. Save Predictions"
   ]
  },
  {
   "cell_type": "code",
   "execution_count": null,
   "metadata": {},
   "source": [
    "# Prepare submission\n",
    "submit_df = pd.read_csv('Submission_template_UHI2025-v2.csv')\n",
    "submit_df['UHI Index'] = final_predictions\n",
    "\n",
    "# Save predictions\n",
    "output_file = 'UHI_prediction_v2.csv'\n",
    "submit_df.to_csv(output_file, index=False)\n",
    "print(f\"\\nPredictions saved to {output_file}\")\n",
    "\n",
    "# Display prediction statistics\n",
    "print(\"\\nPrediction Statistics:\")\n",
    "print(submit_df['UHI Index'].describe())"
   ]
  }
 ],
 "metadata": {
  "kernelspec": {
   "display_name": "Python 3",
   "language": "python",
   "name": "python3"
  },
  "language_info": {
   "codemirror_mode": {
    "name": "ipython",
    "version": 3
   },
   "file_extension": ".py",
   "mimetype": "text/x-python",
   "name": "python",
   "nbconvert_exporter": "python",
   "pygments_lexer": "ipython3",
   "version": "3.11.11"
  }
 },
 "nbformat": 4,
 "nbformat_minor": 4
}
