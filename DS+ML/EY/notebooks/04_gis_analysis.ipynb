{
 "cells": [
  {
   "cell_type": "markdown",
   "metadata": {},
   "source": [
    "GIS: Geographic Information Systems\n",
    "Goal: predict UHI values\n",
    "Method:\n",
    "\n",
    "- calculation of Z-scores to assess the tmeperature differences between urban and rural areas \n",
    "- utilizing LST (Land Surface Temperature) data by calcalating the mean LST and determining the standard deviation.\n",
    "- UHI Intensity = (LST - Rural temp) / std\n",
    "- Linear Regression / Decision Tree\n",
    "\n",
    "To train..\n",
    "* normalized Indexes (NDVI)\n",
    "* training images \n",
    "--> build Linear Regression / Decision Tree Classifier --> Urban Footage Images\n",
    "\n",
    "Urban Heat Island Classification \n",
    "\n",
    "**Dataset**\n",
    "- sentinel-2 + ndwi\n",
    "- landsat 8 + ndvi\n",
    "\n",
    "**Parameters from Satellite**\n",
    "\n",
    "**Alternative NDVI Adjustments**\n",
    "- it reveals a nonlinear relationship with LST, emphasizing the complex role of vegetation in UHI mitigation."
   ]
  },
  {
   "cell_type": "markdown",
   "metadata": {},
   "source": []
  }
 ],
 "metadata": {
  "language_info": {
   "name": "python"
  }
 },
 "nbformat": 4,
 "nbformat_minor": 2
}
